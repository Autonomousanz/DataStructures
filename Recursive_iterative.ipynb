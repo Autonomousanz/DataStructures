{
 "cells": [
  {
   "cell_type": "markdown",
   "metadata": {},
   "source": [
    "# Homework 02\n",
    "\n",
    "Please fill in: Sanskruti Jadhav"
   ]
  },
  {
   "cell_type": "markdown",
   "metadata": {},
   "source": [
    "The goal of this homework is to understand iterative and recursive algorithms and complexity. We are using Pell Numbers as an example. They are defined as:\n",
    "$$\n",
    "    P_n = \\begin{cases} 0 & n=0 \\\\ 1 & n=1 \\\\ P_{n-2} + 2P_{n-1} & \\text{else} \\end{cases}\n",
    "$$"
   ]
  },
  {
   "cell_type": "markdown",
   "metadata": {},
   "source": [
    "## Question 1\n",
    "\n",
    "Write a function print_elements(l) that prints every element of the list L. If an element is a list by itself, recursively call print_elements() for this element instead. To find out if a variable x is a list, use type(x). Note that the function should not return anything!"
   ]
  },
  {
   "cell_type": "code",
   "execution_count": 1,
   "metadata": {},
   "outputs": [
    {
     "name": "stdout",
     "output_type": "stream",
     "text": [
      "1\n",
      "hello\n",
      "3\n",
      "4\n",
      "5\n",
      "6\n",
      "1\n",
      "2\n",
      "3\n"
     ]
    }
   ],
   "source": [
    "def print_elements(L):\n",
    "     # TODO: replace this\n",
    "    for i in range(len(L)):\n",
    "        if type(L[i])==list:\n",
    "            print_elements(L[i])\n",
    "        else : print(L[i])\n",
    "\n",
    "print_elements([[1,\"hello\"], 3, [4,5,6],[1,[2,[3]]]])"
   ]
  },
  {
   "cell_type": "markdown",
   "metadata": {},
   "source": [
    "## Question 2\n",
    "\n",
    "Write pell_recursive(n) that returns the n-th Pell number as a recursive function using the definition above."
   ]
  },
  {
   "cell_type": "code",
   "execution_count": 2,
   "metadata": {},
   "outputs": [
    {
     "name": "stdout",
     "output_type": "stream",
     "text": [
      "[0, 1, 2, 5, 12, 29, 70, 169, 408, 985, 2378, 5741, 13860, 33461, 80782, 195025, 470832, 1136689, 2744210, 6625109]\n"
     ]
    }
   ],
   "source": [
    "def pell_recursive(n):\n",
    "    if n == 0 or n==1:\n",
    "        return n\n",
    "    else :\n",
    "        return pell_recursive(n-2) + 2*pell_recursive(n-1)\n",
    "     # TODO: replace this\n",
    "\n",
    "print ([pell_recursive(n) for n in range(0,20)])"
   ]
  },
  {
   "cell_type": "markdown",
   "metadata": {},
   "source": [
    "### Question 3\n",
    "Write a function pell_recursive_cost(n) that returns the total number of function calls pell_recursive() will do for a given n (it should be 1 for n=0 and n=1, and 3 for n=2). What sequence is that? What is the complexity of pell_recursive(n)? Is it polynomial?"
   ]
  },
  {
   "cell_type": "code",
   "execution_count": 3,
   "metadata": {},
   "outputs": [
    {
     "name": "stdout",
     "output_type": "stream",
     "text": [
      "[1, 1, 3, 5, 9, 15, 25, 41, 67, 109, 177, 287, 465, 753, 1219, 1973, 3193, 5167, 8361, 13529]\n"
     ]
    }
   ],
   "source": [
    "def pell_recursive_cost(n):\n",
    "    if n==1 or n==0:\n",
    "        return 1\n",
    "    else:    \n",
    "        return 1+ pell_recursive_cost(n-2) + pell_recursive_cost(n-1) # TODO: replace this\n",
    "\n",
    "print ([pell_recursive_cost(n) for n in range(0,20)])\n",
    "\n",
    "# this sequence is known as: Leonardo Numbers\n",
    "# complexity is O(2^n)\n",
    "# complexity is exponential not polynomial   (is / is not) polynomial"
   ]
  },
  {
   "cell_type": "code",
   "execution_count": 23,
   "metadata": {},
   "outputs": [
    {
     "data": {
      "text/plain": [
       "Text(0.5, 0, 'N')"
      ]
     },
     "execution_count": 23,
     "metadata": {},
     "output_type": "execute_result"
    },
    {
     "data": {
      "image/png": "[encoded data removed]",
      "text/plain": [
       "<Figure size 432x288 with 1 Axes>"
      ]
     },
     "metadata": {
      "needs_background": "light"
     },
     "output_type": "display_data"
    }
   ],
   "source": [
    "import matplotlib.pyplot as plt\n",
    "arr=[pell_recursive_cost(n) for n in range(0,20)]\n",
    "plt.plot(arr)\n",
    "plt.ylabel(\"Complexity\")\n",
    "plt.xlabel(\"N\")"
   ]
  },
  {
   "cell_type": "markdown",
   "metadata": {},
   "source": [
    "## Question 4\n",
    "Write a function pell_iterative(n) that returns the n-th Pell number using an iterative approach (that does not recompute P_2 more than once when computing P_5 for example). Check your result."
   ]
  },
  {
   "cell_type": "code",
   "execution_count": 5,
   "metadata": {},
   "outputs": [
    {
     "name": "stdout",
     "output_type": "stream",
     "text": [
      "[0, 1, 2, 5, 12, 29, 70, 169, 408, 985, 2378, 5741, 13860, 33461, 80782, 195025, 470832, 1136689, 2744210, 6625109]\n"
     ]
    }
   ],
   "source": [
    "def pell_iterative(n):\n",
    "    temp_a = 0 # considering base case of pell(0)\n",
    "    temp_b = 1 # considering base case of pell(1)\n",
    "    if n==0 or n == 1:    \n",
    "        return n\n",
    "    for i in range(2,n+1):\n",
    "        # We need only previous two pell numbers of n\n",
    "        result = temp_b * 2 +  temp_a # pell(2) = pell(1)*2 + pell(0) -> result(n=2)= temp_b*2 + temp_a\n",
    "        temp_a = temp_b # update pell(n-2)\n",
    "        temp_b = result # update pell(n-1)\n",
    "    return result   \n",
    "\n",
    "print ([pell_iterative(n) for n in range(0,20)])"
   ]
  },
  {
   "cell_type": "markdown",
   "metadata": {},
   "source": [
    "## Question 5\n",
    "Write a function pell_iterative_cost(n) that returns the number of additions and multiplications done to compute pell_iterative(n). What is the complexity of pell_iterative(n)?"
   ]
  },
  {
   "cell_type": "code",
   "execution_count": 6,
   "metadata": {},
   "outputs": [
    {
     "name": "stdout",
     "output_type": "stream",
     "text": [
      "[0, 0, 2, 4, 6, 8, 10, 12, 14, 16, 18, 20, 22, 24, 26, 28, 30, 32, 34, 36]\n"
     ]
    }
   ],
   "source": [
    "def pell_iterative_cost(n):\n",
    "    calc=0 # initializing 0 calculation in total\n",
    "    if n==0 or n == 1:    \n",
    "        return calc\n",
    "    for i in range(2,n+1):\n",
    "        calc += 2  # one multiplication and one addition always in one iteration  \n",
    "    return calc # replace this\n",
    "\n",
    "print ([pell_iterative_cost(n) for n in range(0,20)])\n",
    "\n",
    "# complexity is: O(n) as number of operations are constant*n"
   ]
  },
  {
   "cell_type": "code",
   "execution_count": 24,
   "metadata": {},
   "outputs": [
    {
     "data": {
      "text/plain": [
       "Text(0.5, 0, 'N')"
      ]
     },
     "execution_count": 24,
     "metadata": {},
     "output_type": "execute_result"
    },
    {
     "data": {
      "image/png": "[encoded data removed]",
      "text/plain": [
       "<Figure size 432x288 with 1 Axes>"
      ]
     },
     "metadata": {
      "needs_background": "light"
     },
     "output_type": "display_data"
    }
   ],
   "source": [
    "import matplotlib.pyplot as plt\n",
    "arr=[pell_iterative_cost(n) for n in range(0,20)]\n",
    "plt.plot(arr)\n",
    "plt.ylabel(\"Complexity\")\n",
    "plt.xlabel(\"N\")"
   ]
  },
  {
   "cell_type": "markdown",
   "metadata": {},
   "source": [
    "## Question 6\n",
    "Look up Pell number on wikipedia and find the direct formula and implement it as pell_direct(n) (you should round your answer using round()). Find the smallest n where the direct formula is no longer accurate. Explain why."
   ]
  },
  {
   "cell_type": "code",
   "execution_count": 19,
   "metadata": {},
   "outputs": [
    {
     "name": "stdout",
     "output_type": "stream",
     "text": [
      "[0, 1, 2, 5, 12, 29, 70, 169, 408, 985, 2378, 5741, 13860, 33461, 80782, 195025, 470832, 1136689, 2744210, 6625109]\n"
     ]
    }
   ],
   "source": [
    "import math # needed for math.sqrt()\n",
    "\n",
    "def pell_direct(n):\n",
    "    \n",
    "    result =((1 + math.sqrt(2))**n - (1 - math.sqrt(2))**n )/( 2 * math.sqrt(2) )\n",
    "    result = round(result) \n",
    "    return result # TODO: replace this\n",
    "\n",
    "print ([ pell_direct(n) for n in range (0,20) ])"
   ]
  },
  {
   "cell_type": "code",
   "execution_count": 22,
   "metadata": {},
   "outputs": [
    {
     "name": "stdout",
     "output_type": "stream",
     "text": [
      "39 299713796309064 299713796309065\n",
      "40 723573111879670 723573111879672\n",
      "41 1746860020068405 1746860020068409\n",
      "42 4217293152016480 4217293152016490\n",
      "43 10181446324101364 10181446324101389\n",
      "44 24580185800219208 24580185800219268\n",
      "45 59341817924539776 59341817924539925\n",
      "46 143263821649298768 143263821649299118\n",
      "47 345869461223137280 345869461223138161\n",
      "48 835002744095573376 835002744095575440\n",
      "49 2015874949414283776 2015874949414289041\n"
     ]
    }
   ],
   "source": [
    "# somehow compare pell_direct(n) and pell_iterative(n) and find smallest n where they differ\n",
    "for n in range(50):\n",
    "    if pell_direct(n) != pell_iterative(n):\n",
    "        print(n, pell_direct(n), pell_iterative(n))\n",
    "        \n",
    "############ n                      pell_direct(n), pell_iterative(n)         #########\n",
    "# at n=39>>rounded results --     299713796309064 299713796309065\n",
    "# at n=39>>non-rounded results--  299713796309064.4 299713796309065\n",
    "# at n = 40 >>                    723573111879670.5 --- 723573111879672\n",
    "\n",
    "\n",
    "# TODO\n",
    "# there is difference at n=39 of 1 for the 2 functions..\n",
    "#the difference increases for all the proceeding numbers as well\n",
    "# why does this happen for this n? \n",
    "# The floating point precision in python is 17 digits since it is double precision 64 bit floating point std.\n",
    "# when I remove rounding off from pell_direct, the exponent part takes 15 digits and one digit of fraction remains\n",
    "# hence precision is lost and that is why there is difference in the output, since fraction part is just 4 it gets rounded off to lower digit\n",
    "#this holds good for all the proceeding numbers greater than 39 because the total digits will always be greater than 17"
   ]
  },
  {
   "cell_type": "markdown",
   "metadata": {},
   "source": [
    "## Question 7\n",
    "Observe the time it takes to compute $P_{10}, P_{20}, P_{30}$ (There is nothing for you to do here except running the following block)"
   ]
  },
  {
   "cell_type": "code",
   "execution_count": 10,
   "metadata": {},
   "outputs": [
    {
     "name": "stdout",
     "output_type": "stream",
     "text": [
      "for n = 10 :\n",
      "28.6 µs ± 31 ns per loop (mean ± std. dev. of 7 runs, 10,000 loops each)\n",
      "1.32 µs ± 6.14 ns per loop (mean ± std. dev. of 7 runs, 1,000,000 loops each)\n",
      "1.07 µs ± 6.15 ns per loop (mean ± std. dev. of 7 runs, 1,000,000 loops each)\n",
      "for n = 20 :\n",
      "3.6 ms ± 2.82 µs per loop (mean ± std. dev. of 7 runs, 100 loops each)\n",
      "2.41 µs ± 2.53 ns per loop (mean ± std. dev. of 7 runs, 100,000 loops each)\n",
      "1.05 µs ± 2.28 ns per loop (mean ± std. dev. of 7 runs, 1,000,000 loops each)\n",
      "for n = 30 :\n",
      "438 ms ± 251 µs per loop (mean ± std. dev. of 7 runs, 1 loop each)\n",
      "3.64 µs ± 8.58 ns per loop (mean ± std. dev. of 7 runs, 100,000 loops each)\n",
      "1.05 µs ± 2.51 ns per loop (mean ± std. dev. of 7 runs, 1,000,000 loops each)\n"
     ]
    }
   ],
   "source": [
    "for n in [10,20,30]:\n",
    "    print (\"for n =\",n,\":\")\n",
    "    %timeit pell_recursive(n)\n",
    "    %timeit pell_iterative(n)\n",
    "    %timeit pell_direct(n)"
   ]
  },
  {
   "cell_type": "code",
   "execution_count": null,
   "metadata": {},
   "outputs": [],
   "source": []
  }
 ],
 "metadata": {
  "kernelspec": {
   "display_name": "Python 3 (ipykernel)",
   "language": "python",
   "name": "python3"
  },
  "language_info": {
   "codemirror_mode": {
    "name": "ipython",
    "version": 3
   },
   "file_extension": ".py",
   "mimetype": "text/x-python",
   "name": "python",
   "nbconvert_exporter": "python",
   "pygments_lexer": "ipython3",
   "version": "3.9.12"
  },
  "vscode": {
   "interpreter": {
    "hash": "2a8dfe095fce2b5e88c64a2c3ee084c8e0e0d70b23e7b95b1cfb538be294c5c8"
   }
  }
 },
 "nbformat": 4,
 "nbformat_minor": 4
}
