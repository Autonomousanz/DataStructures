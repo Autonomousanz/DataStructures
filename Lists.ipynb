{
 "cells": [
  {
   "cell_type": "markdown",
   "metadata": {},
   "source": [
    "# Homework 01\n",
    "\n",
    "Please fill in your name: __Sanskruti Jadhav__________"
   ]
  },
  {
   "cell_type": "markdown",
   "metadata": {},
   "source": [
    "## Question 0\n",
    "\n",
    "Fill in your name at the top and complete the instructions for the questions below. You need to fill in blanks ________ and write code (sections often contain a comment that begins with \"TODO\"). When you are done, download the file as a .ipynb and upload on canvas.\n",
    "\n",
    "But first, open and work through \"python_intro1.ipynb\" and read up on things you don't understand. See the Python Tutorial pdf on canvas.    "
   ]
  },
  {
   "cell_type": "markdown",
   "metadata": {},
   "source": [
    "## Question 1\n",
    "I demonstrated in class that the integer data type in Python is not a typical 32 or 64 bit integer with a largest value of $2^{32}$ or $2^{64}$ but basically unlimited in size.\n",
    "\n",
    "Find out the format Python is using to store floating point numbers like 3.4 (is it a IEEE floating point standard? which one? what is the total number of bits (32? 64?)? Write your answer below) and do a computation that demonstrates that this is true.   \n",
    "\n",
    "Answer: \n",
    "Python float values are represented as 64-bit double-precision values. \n",
    "\n",
    "IEEE-754 floating point arithmetic standard is used by almost all platforms map Python floats to IEEE-754 double precision. \n",
    "754 corresponds to 53 bits of significand precision, 11 bits for exponent and 1 bit for sign in a 64 bit layout .\n",
    "The 11 bit width of the exponent allows the representation of numbers between 10** (-323) and 10 **(308). The number 10 ** -323 is loss of precision as it represents underflow\n",
    "That is if we represent a number at this max limit of 10 power 308, it is assumed as \"inf\" by the computer also defined as overflow value has grown too large to be represented.\n",
    "If it was represented in 32 bit, the overflow decimal limit would be 10 power 38.53 and thus 3.4e307 would still be printed as \"inf\""
   ]
  },
  {
   "cell_type": "code",
   "execution_count": 1,
   "metadata": {},
   "outputs": [
    {
     "name": "stdout",
     "output_type": "stream",
     "text": [
      "inf\n",
      "3.4e+307\n",
      "<class 'float'>\n"
     ]
    }
   ],
   "source": [
    "# the number format \"float\" is known as: double_\n",
    "# total number of bits: 64_\n",
    "print (3.4e308) # TODO: show that your statement above is correct using some expression that shows the precision.\n",
    "print (3.4e307)\n",
    "\n",
    "\n",
    "print(type(3.4))\n",
    "\n",
    "import ctypes\n",
    "import numpy\n",
    "\n",
    "\n"
   ]
  },
  {
   "cell_type": "markdown",
   "metadata": {},
   "source": [
    "## Question 2\n",
    "Write a function hey_ho() with arguments start and end that prints the numbers starting from start to end (inclusive) in a single line each. If the number is divisible by 3, print \"hey!\" instead of the number, if the number is divisible by 5 print \"ho!\". Finally, if it is divisible by both, print \"GO Tigers!\" instead.\n",
    "Example for hey_ho(7,16):"
   ]
  },
  {
   "cell_type": "raw",
   "metadata": {},
   "source": [
    "7\n",
    "8\n",
    "hey!\n",
    "ho!\n",
    "11\n",
    "hey!\n",
    "13\n",
    "14\n",
    "GO Tigers!\n",
    "16"
   ]
  },
  {
   "cell_type": "code",
   "execution_count": 2,
   "metadata": {},
   "outputs": [
    {
     "name": "stdout",
     "output_type": "stream",
     "text": [
      "7\n",
      "8\n",
      "hey! \n",
      "ho !\n",
      "11\n",
      "hey! \n",
      "13\n",
      "14\n",
      "GO Tiges!\n",
      "16\n"
     ]
    }
   ],
   "source": [
    "def hey_ho(start, end):\n",
    "    # TODO: your implementation here\n",
    "    number=start\n",
    "\n",
    "    while number <= end:\n",
    "\n",
    "        if number % 3 == 0 and number % 5== 0:\n",
    "            print (\"GO Tigers!\")\n",
    "        elif number % 3 ==0 :\n",
    "            print (\"hey! \")\n",
    "        elif number % 5 == 0 :\n",
    "            print (\"ho !\")\n",
    "        else:\n",
    "            print (number)\n",
    "        number+=1\n",
    "\n",
    "    #print('hello world')\n",
    "    \n",
    "hey_ho(7,16)"
   ]
  }
 ],
 "metadata": {
  "kernelspec": {
   "display_name": "Python 3.9.12 ('base')",
   "language": "python",
   "name": "python3"
  },
  "language_info": {
   "codemirror_mode": {
    "name": "ipython",
    "version": 3
   },
   "file_extension": ".py",
   "mimetype": "text/x-python",
   "name": "python",
   "nbconvert_exporter": "python",
   "pygments_lexer": "ipython3",
   "version": "3.9.12"
  },
  "vscode": {
   "interpreter": {
    "hash": "2700178ef741c15d6be515d318ae51aab30b3706011b62dccec0eeb7b11bde02"
   }
  }
 },
 "nbformat": 4,
 "nbformat_minor": 4
}
