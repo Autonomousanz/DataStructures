{
 "cells": [
  {
   "cell_type": "markdown",
   "metadata": {},
   "source": [
    "# Homework 04\n",
    "- read up on abstract data types (list, queue, stack, deque) on wikipedia\n",
    "\n",
    "Please fill in: Sanskruti Jadhav"
   ]
  },
  {
   "cell_type": "markdown",
   "metadata": {},
   "source": [
    "## Introduction"
   ]
  },
  {
   "cell_type": "code",
   "execution_count": 1,
   "metadata": {},
   "outputs": [
    {
     "name": "stdout",
     "output_type": "stream",
     "text": [
      "[1, 2, 3, 4, 5]\n",
      "s: [1, 2, 3, 4, 5]\n",
      "pop():  5\n",
      "s: [1, 2, 3, 4]\n",
      "pop():  4\n",
      "s: [1, 2, 3]\n",
      "pop(0):  1\n",
      "s: [2, 3]\n"
     ]
    }
   ],
   "source": [
    "# Using a Python list (array), observe what the following functions do:\n",
    "s=[2,3,4]\n",
    "s.append(5)\n",
    "s.insert(0, 1)\n",
    "\n",
    "print (s)\n",
    "print (\"s:\",s)\n",
    "print (\"pop(): \", s.pop())\n",
    "print (\"s:\", s)\n",
    "print (\"pop(): \", s.pop())\n",
    "print (\"s:\", s)\n",
    "print (\"pop(0): \", s.pop(0))\n",
    "print (\"s:\", s)"
   ]
  },
  {
   "cell_type": "code",
   "execution_count": 2,
   "metadata": {},
   "outputs": [
    {
     "data": {
      "image/png": "[encoded data removed]",
      "text/plain": [
       "<Figure size 432x288 with 1 Axes>"
      ]
     },
     "metadata": {
      "needs_background": "light"
     },
     "output_type": "display_data"
    }
   ],
   "source": [
    "# plotting works very similar to MATLAB\n",
    "%matplotlib inline\n",
    "import matplotlib.pyplot as plt\n",
    "x = [10, 50, 100, 150]\n",
    "y = [3, 5, 10, 22]\n",
    "\n",
    "plt.plot(x, y, 'o-')\n",
    "plt.show()"
   ]
  },
  {
   "cell_type": "code",
   "execution_count": 3,
   "metadata": {},
   "outputs": [
    {
     "name": "stdout",
     "output_type": "stream",
     "text": [
      "5 4 3\n",
      "True\n"
     ]
    }
   ],
   "source": [
    "class MyStack:\n",
    "    \"\"\" simple stack implemented using a Python list (array)\"\"\"\n",
    "    def __init__(self):\n",
    "        self.data = []\n",
    "        \n",
    "    def push(self,x):\n",
    "        self.data.append(x)\n",
    "        \n",
    "    def pop(self):\n",
    "        return self.data.pop()\n",
    "    \n",
    "    def is_empty(self):\n",
    "        return len(self.data) == 0\n",
    "    \n",
    "s = MyStack()\n",
    "s.push(3)\n",
    "s.push(4)\n",
    "s.push(5)\n",
    "\n",
    "print (s.pop(), s.pop(), s.pop())\n",
    "print (s.is_empty())"
   ]
  },
  {
   "cell_type": "code",
   "execution_count": 4,
   "metadata": {},
   "outputs": [
    {
     "name": "stdout",
     "output_type": "stream",
     "text": [
      "2.59 ms ± 8.42 µs per loop (mean ± std. dev. of 7 runs, 100 loops each)\n",
      "5.19 ms ± 18 µs per loop (mean ± std. dev. of 7 runs, 100 loops each)\n",
      "10.8 ms ± 3.22 µs per loop (mean ± std. dev. of 7 runs, 100 loops each)\n",
      "22 ms ± 11.9 µs per loop (mean ± std. dev. of 7 runs, 10 loops each)\n",
      "44.5 ms ± 9.14 µs per loop (mean ± std. dev. of 7 runs, 10 loops each)\n",
      "92 ms ± 136 µs per loop (mean ± std. dev. of 7 runs, 10 loops each)\n"
     ]
    }
   ],
   "source": [
    "def stack_fill_and_empty(n):\n",
    "    S = MyStack()\n",
    "    for item in range(n):\n",
    "        S.push(item)\n",
    "        \n",
    "    while n>0:\n",
    "        S.pop()\n",
    "        n -= 1\n",
    "\n",
    "sizes = [10000, 20000, 40000, 80000, 160000, 320000]\n",
    "for n in sizes:\n",
    "    %timeit stack_fill_and_empty(n)"
   ]
  },
  {
   "cell_type": "code",
   "execution_count": 5,
   "metadata": {},
   "outputs": [],
   "source": [
    "import numpy as np\n",
    "def fit_poly(x,y,k):\n",
    "    n = len(x)\n",
    "    x = np.array(x)\n",
    "    y = np.array(y)\n",
    "    A = np.zeros((n,k+1))\n",
    "    for i in range(k+1):\n",
    "        A[:,i] = np.array(x)**i\n",
    "        \n",
    "    c = np.linalg.lstsq(A,y,rcond=None)[0]\n",
    "    misfit = np.linalg.norm(np.dot(A,c)-y)    \n",
    "    return c, misfit"
   ]
  },
  {
   "cell_type": "code",
   "execution_count": 6,
   "metadata": {},
   "outputs": [
    {
     "name": "stdout",
     "output_type": "stream",
     "text": [
      "coefficients: [-9.13731343e-01  5.21178394e-04]\n",
      "misfit: 2.8568008608394977\n"
     ]
    }
   ],
   "source": [
    "x = sizes\n",
    "y = [5, 9.96, 19.9, 41, 80, 167]\n",
    "c, misfit = fit_poly(x, y, 1) # find a good coefficient!\n",
    "print (\"coefficients:\",c)\n",
    "print (\"misfit:\", misfit)"
   ]
  },
  {
   "cell_type": "code",
   "execution_count": 7,
   "metadata": {},
   "outputs": [
    {
     "data": {
      "image/png": "[encoded data removed]",
      "text/plain": [
       "<Figure size 432x288 with 1 Axes>"
      ]
     },
     "metadata": {
      "needs_background": "light"
     },
     "output_type": "display_data"
    }
   ],
   "source": [
    "xx = np.linspace(0,1.5*x[-1],100)\n",
    "yy = xx * 0\n",
    "for idx,cc in enumerate(c):\n",
    "    yy = yy + cc*xx**idx\n",
    "\n",
    "plt.plot(x, y, 'o')\n",
    "plt.plot(xx, yy, 'r')\n",
    "plt.show()"
   ]
  },
  {
   "cell_type": "code",
   "execution_count": 8,
   "metadata": {},
   "outputs": [
    {
     "name": "stdout",
     "output_type": "stream",
     "text": [
      "best fitting polynomial: 4.498696957019719e-04 x^ 1.0105452435622089\n"
     ]
    }
   ],
   "source": [
    "# alternatively fitting f(x)=c0 x^c1:\n",
    "c, misfit = fit_poly(np.log(x),np.log(y),1)\n",
    "print (\"best fitting polynomial:\",np.exp(c[0]),\"x^\",c[1])"
   ]
  },
  {
   "cell_type": "markdown",
   "metadata": {},
   "source": [
    "We can conclude that pushing n elements to the stack and removing them again takes O(n) time. This means each operation is O(1) (on average!) "
   ]
  },
  {
   "cell_type": "markdown",
   "metadata": {},
   "source": [
    "## 1. Test queue operations using a Python list\n",
    "We first use a Python list (dynamically sized array) as an (inefficient) queue. Our test consists of queueing n elements and then dequeueing all of them. Complete the code below, time for different n, create a fit of the right degree and conclude what the cost of queueing and dequeueing one element is."
   ]
  },
  {
   "cell_type": "code",
   "execution_count": 9,
   "metadata": {},
   "outputs": [
    {
     "name": "stdout",
     "output_type": "stream",
     "text": [
      "7.24 ms ± 16.3 µs per loop (mean ± std. dev. of 7 runs, 100 loops each)\n",
      "28.8 ms ± 9.72 µs per loop (mean ± std. dev. of 7 runs, 10 loops each)\n",
      "111 ms ± 52.6 µs per loop (mean ± std. dev. of 7 runs, 10 loops each)\n",
      "436 ms ± 2.87 ms per loop (mean ± std. dev. of 7 runs, 1 loop each)\n",
      "2.12 s ± 5.41 ms per loop (mean ± std. dev. of 7 runs, 1 loop each)\n"
     ]
    }
   ],
   "source": [
    "def fill_and_empty_queue_using_list(n):\n",
    "    L = []\n",
    "    for item in range(n):\n",
    "        # queue item in L (add to end):\n",
    "        L.append(item)\n",
    "        \n",
    "    while n>0:\n",
    "        # dequeue item in L (remove from start):\n",
    "        L.pop(0)\n",
    "        n -= 1\n",
    "\n",
    "sizes = [10000,20000,40000,80000,160000]\n",
    "for n in sizes:\n",
    "    %timeit fill_and_empty_queue_using_list(n)"
   ]
  },
  {
   "cell_type": "code",
   "execution_count": 14,
   "metadata": {},
   "outputs": [
    {
     "name": "stdout",
     "output_type": "stream",
     "text": [
      "coefficients: [ 3.46784314e+01 -2.38754522e-03  9.43374447e-08]\n",
      "misfit: 28.796942876607226\n"
     ]
    },
    {
     "data": {
      "image/png": "[encoded data removed]",
      "text/plain": [
       "<Figure size 432x288 with 1 Axes>"
      ]
     },
     "metadata": {
      "needs_background": "light"
     },
     "output_type": "display_data"
    }
   ],
   "source": [
    "x = sizes\n",
    "y = [7.46,28.7,111,433,2.07*1000] # fill\n",
    "c, misfit = fit_poly(x,y,2)\n",
    "print (\"coefficients:\",c )\n",
    "print (\"misfit:\", misfit)\n",
    "\n",
    "xx = np.linspace(0,x[-1],100)\n",
    "yy = xx * 0\n",
    "for idx,cc in enumerate(c):\n",
    "    yy = yy + cc*xx**idx\n",
    "\n",
    "plt.plot(x, y, 'o')\n",
    "plt.plot(xx, yy, 'r')\n",
    "plt.show()"
   ]
  },
  {
   "cell_type": "code",
   "execution_count": 15,
   "metadata": {},
   "outputs": [
    {
     "name": "stdout",
     "output_type": "stream",
     "text": [
      "best fitting polynomial: 9.506807562515862e-05 x^ 0.6189002554196531\n"
     ]
    }
   ],
   "source": [
    "c, misfit = fit_poly(np.log(x),np.log(y),2)\n",
    "print (\"best fitting polynomial:\",np.exp(c[0]),\"x^\",c[1])"
   ]
  },
  {
   "cell_type": "markdown",
   "metadata": {},
   "source": [
    "fill_and_empty_queue_using_list(n) takes O(n^2). To conclude:\n",
    "1. enqueue one element (append to a list) takes O(1)\n",
    "2. dequeuing one element (remove from the left) takes O(n)\n",
    "3. while removing the last element in a list takes O(1)."
   ]
  },
  {
   "cell_type": "markdown",
   "metadata": {},
   "source": [
    "## 2. Using a deque\n",
    "First determine the correct functions to call to enqueue (add to the right) and dequeue (pop from the left) an element from a deque. Try it out in the next block (it should print 1, then 2, then 3).\n",
    "Then complete dequeue_fill_and_empty() with those commands, benchmark it, fit a curve, and conclude."
   ]
  },
  {
   "cell_type": "code",
   "execution_count": 18,
   "metadata": {},
   "outputs": [
    {
     "name": "stdout",
     "output_type": "stream",
     "text": [
      "1\n",
      "2\n",
      "3\n"
     ]
    }
   ],
   "source": [
    "from collections import deque\n",
    "Q = deque()\n",
    "Q.append(1) # enqueue 1\n",
    "Q.append(2) # enqueue 2\n",
    "Q.append(3) # enqueue 3\n",
    "print (Q.popleft()) # dequeue and print\n",
    "print (Q.popleft()) # dequeue and print\n",
    "print (Q.popleft()) # dequeue and print"
   ]
  },
  {
   "cell_type": "code",
   "execution_count": 19,
   "metadata": {},
   "outputs": [
    {
     "name": "stdout",
     "output_type": "stream",
     "text": [
      "1.16 ms ± 2.87 µs per loop (mean ± std. dev. of 7 runs, 1,000 loops each)\n",
      "2.39 ms ± 427 ns per loop (mean ± std. dev. of 7 runs, 100 loops each)\n",
      "5.01 ms ± 1.36 µs per loop (mean ± std. dev. of 7 runs, 100 loops each)\n",
      "10.3 ms ± 1.62 µs per loop (mean ± std. dev. of 7 runs, 100 loops each)\n",
      "21.1 ms ± 29.2 µs per loop (mean ± std. dev. of 7 runs, 10 loops each)\n"
     ]
    }
   ],
   "source": [
    "def dequeue_fill_and_empty(n):\n",
    "    L = deque()\n",
    "    for item in range(n):\n",
    "        L.append(item) # enqueue\n",
    "        \n",
    "    while n>0:\n",
    "        L.popleft() # now dequeue\n",
    "        n -= 1\n",
    "\n",
    "sizes = [10000,20000,40000,80000,160000]\n",
    "for n in sizes:\n",
    "    %timeit dequeue_fill_and_empty(n)"
   ]
  },
  {
   "cell_type": "code",
   "execution_count": 24,
   "metadata": {},
   "outputs": [
    {
     "name": "stdout",
     "output_type": "stream",
     "text": [
      "coefficients: [ 7.68560092e-09  1.17693381e-04  1.87484234e-10 -5.93606884e-16]\n",
      "misfit: 0.05972331892500866\n"
     ]
    },
    {
     "data": {
      "image/png": "[encoded data removed]",
      "text/plain": [
       "<Figure size 432x288 with 1 Axes>"
      ]
     },
     "metadata": {
      "needs_background": "light"
     },
     "output_type": "display_data"
    }
   ],
   "source": [
    "x = sizes\n",
    "y = [1.16,2.4,5.01,10.3,21.2] # fill\n",
    "c, misfit = fit_poly(x,y,3)\n",
    "print (\"coefficients:\",c)\n",
    "print (\"misfit:\", misfit)\n",
    "\n",
    "xx = np.linspace(0,x[-1],100)\n",
    "yy = xx * 0\n",
    "for idx,cc in enumerate(c):\n",
    "    yy = yy + cc*xx**idx\n",
    "\n",
    "plt.plot(x, y, 'o')\n",
    "plt.plot(xx, yy, 'r')\n",
    "plt.show()"
   ]
  },
  {
   "cell_type": "markdown",
   "metadata": {},
   "source": [
    "Filling and emptying a queue (n elements) based on Python's deque takes: O(n). Therefore, a single enqueue() or dequeue() takes: O(1). Read up on wikipedia on \"deque\" and state the cost for the operations for:\n",
    "1. add element on left: O(1)\n",
    "2. add element on right: O(1)\n",
    "3. remove element on left: O(1)\n",
    "4. remove element on right: O(1)\n",
    "\n",
    "Is that what you see?  yes , the same time constant is seen."
   ]
  },
  {
   "cell_type": "code",
   "execution_count": 36,
   "metadata": {},
   "outputs": [
    {
     "name": "stdout",
     "output_type": "stream",
     "text": [
      "1.16 ms ± 445 ns per loop (mean ± std. dev. of 7 runs, 1,000 loops each)\n",
      "2.33 ms ± 556 ns per loop (mean ± std. dev. of 7 runs, 100 loops each)\n",
      "4.77 ms ± 2.43 µs per loop (mean ± std. dev. of 7 runs, 100 loops each)\n",
      "10.2 ms ± 8.5 µs per loop (mean ± std. dev. of 7 runs, 100 loops each)\n",
      "21 ms ± 14.1 µs per loop (mean ± std. dev. of 7 runs, 10 loops each)\n"
     ]
    }
   ],
   "source": [
    "# Add to left and pop from left \n",
    "\n",
    "def dequeue_fill_and_empty(n):\n",
    "    L = deque()\n",
    "    for item in range(n):\n",
    "        L.appendleft(item) # enqueue\n",
    "        \n",
    "    while n>0:\n",
    "        L.pop() # now dequeue\n",
    "        n -= 1\n",
    "\n",
    "sizes = [10000,20000,40000,80000,160000]\n",
    "for n in sizes:\n",
    "    %timeit dequeue_fill_and_empty(n)"
   ]
  },
  {
   "cell_type": "markdown",
   "metadata": {},
   "source": [
    "## Question 3: Now implement a deque using a doubly-linked list\n",
    "Complete the implementation, make sure the tests work, and finally time the operations."
   ]
  },
  {
   "cell_type": "code",
   "execution_count": 25,
   "metadata": {},
   "outputs": [
    {
     "name": "stdout",
     "output_type": "stream",
     "text": [
      "[[ 0 1 2 3 4 ]]\n",
      "pop_left: 0\n",
      "pop_right: 4\n",
      "[[ 1 2 3 ]]\n",
      "pop_left: 1\n",
      "[[ 2 3 ]]\n",
      "pop_left: 2\n",
      "pop_right: 3\n",
      "[[ ]]\n",
      "pop_left: None\n",
      "pop_right: None\n"
     ]
    }
   ],
   "source": [
    "class MyDeque:\n",
    "    \"\"\" a double-ended queue implemented using a linked list\"\"\"\n",
    " \n",
    "    class ListItem:\n",
    "        \"\"\" an item in a doubly-linked list\"\"\"\n",
    "        def __init__(self, x, prev, next):\n",
    "            self.item = x\n",
    "            self.next = next\n",
    "            self.prev = prev\n",
    "\n",
    "    def __init__(self):\n",
    "        self.head = None\n",
    "        self.tail = None\n",
    "        \n",
    "    def push_right(self, x): # GIVEN\n",
    "        if self.head == None:\n",
    "            self.head = MyDeque.ListItem(x,None, None)\n",
    "            self.tail = self.head\n",
    "        else:\n",
    "            newtail = MyDeque.ListItem(x, self.tail, None)\n",
    "            self.tail.next = newtail\n",
    "            self.tail = newtail\n",
    "            \n",
    "    def push_left(self, x):# TODO\n",
    "            if self.head == None: # No elements \n",
    "                self.head = MyDeque.ListItem(x,None, None)\n",
    "                self.tail = self.head\n",
    "            else:\n",
    "                newhead = MyDeque.ListItem(x, None, self.head)\n",
    "                self.head.prev = newhead\n",
    "                self.head = newhead\n",
    "\n",
    "    def pop_left(self): # GIVEN \n",
    "        if self.head == None: # NO elements in the list\n",
    "            return None\n",
    "        item = self.head.item\n",
    "        if self.head.next == None: # ONE head element in the list\n",
    "            self.head = None  \n",
    "            self.tail = None\n",
    "        else:\n",
    "            newhead = self.head.next # more than 1 elements \n",
    "            newhead.prev = None \n",
    "            self.head = newhead  \n",
    "        return item\n",
    "    \n",
    "    def pop_right(self): # TODO\n",
    "        if self.tail == None:\n",
    "            return None\n",
    "        item = self.tail.item\n",
    "        if self.tail.prev == None:\n",
    "            self.head = None\n",
    "            self.tail = None\n",
    "        else:\n",
    "            newtail = self.tail.prev\n",
    "            newtail.next = None\n",
    "            self.tail = newtail\n",
    "        return item   \n",
    "    \n",
    "    def print_it(self):\n",
    "        it = self.head\n",
    "        print (\"[[ \", end=\"\")\n",
    "        while it != None:\n",
    "            print (it.item, end=\" \")\n",
    "            it = it.next\n",
    "        print (\"]]\")\n",
    "\n",
    "Q = MyDeque()\n",
    "Q.push_right(1)\n",
    "Q.push_right(2)\n",
    "Q.push_right(3)\n",
    "Q.push_left(0)\n",
    "Q.push_right(4)\n",
    "Q.print_it()\n",
    "print (\"pop_left:\", Q.pop_left())\n",
    "print (\"pop_right:\", Q.pop_right())\n",
    "Q.print_it()\n",
    "print (\"pop_left:\", Q.pop_left())\n",
    "Q.print_it()\n",
    "print (\"pop_left:\", Q.pop_left())\n",
    "print (\"pop_right:\", Q.pop_right())\n",
    "Q.print_it()\n",
    "print (\"pop_left:\", Q.pop_left())\n",
    "print (\"pop_right:\", Q.pop_right())"
   ]
  },
  {
   "cell_type": "code",
   "execution_count": 32,
   "metadata": {},
   "outputs": [
    {
     "name": "stdout",
     "output_type": "stream",
     "text": [
      "Defaulting to user installation because normal site-packages is not writeable\n",
      "Collecting graphviz\n",
      "  Downloading graphviz-0.20.1-py3-none-any.whl (47 kB)\n",
      "\u001b[K     |████████████████████████████████| 47 kB 2.5 MB/s eta 0:00:011\n",
      "\u001b[?25hInstalling collected packages: graphviz\n",
      "Successfully installed graphviz-0.20.1\n"
     ]
    }
   ],
   "source": [
    "!pip install graphviz\n"
   ]
  },
  {
   "cell_type": "code",
   "execution_count": 33,
   "metadata": {},
   "outputs": [
    {
     "data": {
      "image/svg+xml": "<?xml version=\"1.0\" encoding=\"UTF-8\" standalone=\"no\"?>\n<!DOCTYPE svg PUBLIC \"-//W3C//DTD SVG 1.1//EN\"\n \"http://www.w3.org/Graphics/SVG/1.1/DTD/svg11.dtd\">\n<!-- Generated by graphviz version 2.40.1 (0)\n -->\n<!-- Title: G Pages: 1 -->\n<svg width=\"293pt\" height=\"96pt\"\n viewBox=\"0.00 0.00 293.00 96.00\" xmlns=\"http://www.w3.org/2000/svg\" xmlns:xlink=\"http://www.w3.org/1999/xlink\">\n<g id=\"graph0\" class=\"graph\" transform=\"scale(1 1) rotate(0) translate(4 92)\">\n<title>G</title>\n<polygon fill=\"#ffffff\" stroke=\"transparent\" points=\"-4,4 -4,-92 289,-92 289,4 -4,4\"/>\n<!-- node22634129292736 -->\n<g id=\"node1\" class=\"node\">\n<title>node22634129292736</title>\n<polygon fill=\"#fefecd\" stroke=\"#444443\" stroke-width=\".5\" points=\"133,-66 79,-66 79,0 133,0 133,-66\"/>\n<polygon fill=\"#fefecd\" stroke=\"transparent\" points=\"81,-50 81,-64 131,-64 131,-50 81,-50\"/>\n<polyline fill=\"none\" stroke=\"#444443\" points=\"81,-50 131,-50 \"/>\n<text text-anchor=\"start\" x=\"87.5\" y=\"-54.2\" font-family=\"Times,serif\" font-style=\"italic\" font-size=\"11.00\" fill=\"#444443\">ListItem</text>\n<polygon fill=\"#fefecd\" stroke=\"transparent\" points=\"81,-48 81,-50 131,-50 131,-48 81,-48\"/>\n<polygon fill=\"#fefecd\" stroke=\"transparent\" points=\"81,-34 81,-48 113,-48 113,-34 81,-34\"/>\n<polyline fill=\"none\" stroke=\"#444443\" points=\"113,-34 113,-48 \"/>\n<text text-anchor=\"start\" x=\"82\" y=\"-38.2\" font-family=\"Helvetica,sans-Serif\" font-size=\"11.00\" fill=\"#444443\">item </text>\n<polygon fill=\"#fefecd\" stroke=\"transparent\" points=\"113,-34 113,-48 131,-48 131,-34 113,-34\"/>\n<text text-anchor=\"start\" x=\"114\" y=\"-38.2\" font-family=\"Helvetica,sans-Serif\" font-size=\"11.00\" fill=\"#444443\"> 2</text>\n<polygon fill=\"#fefecd\" stroke=\"transparent\" points=\"81,-32 81,-34 131,-34 131,-32 81,-32\"/>\n<polygon fill=\"#fefecd\" stroke=\"transparent\" points=\"81,-18 81,-32 113,-32 113,-18 81,-18\"/>\n<polyline fill=\"none\" stroke=\"#444443\" points=\"113,-18 113,-32 \"/>\n<text text-anchor=\"start\" x=\"82\" y=\"-22.2\" font-family=\"Helvetica,sans-Serif\" font-size=\"11.00\" fill=\"#444443\">next </text>\n<polygon fill=\"#fefecd\" stroke=\"transparent\" points=\"113,-18 113,-32 131,-32 131,-18 113,-18\"/>\n<text text-anchor=\"start\" x=\"114\" y=\"-22.2\" font-family=\"Helvetica,sans-Serif\" font-size=\"11.00\" fill=\"#444443\"> &#160;&#160;&#160;</text>\n<polygon fill=\"#fefecd\" stroke=\"transparent\" points=\"81,-16 81,-18 131,-18 131,-16 81,-16\"/>\n<polygon fill=\"#fefecd\" stroke=\"transparent\" points=\"81,-2 81,-16 113,-16 113,-2 81,-2\"/>\n<polyline fill=\"none\" stroke=\"#444443\" points=\"113,-2 113,-16 \"/>\n<text text-anchor=\"start\" x=\"82\" y=\"-6.2\" font-family=\"Helvetica,sans-Serif\" font-size=\"11.00\" fill=\"#444443\">prev </text>\n<polygon fill=\"#fefecd\" stroke=\"transparent\" points=\"113,-2 113,-16 131,-16 131,-2 113,-2\"/>\n<text text-anchor=\"start\" x=\"114\" y=\"-6.2\" font-family=\"Helvetica,sans-Serif\" font-size=\"11.00\" fill=\"#444443\"> &#160;&#160;&#160;</text>\n</g>\n<!-- node22634127153472 -->\n<g id=\"node2\" class=\"node\">\n<title>node22634127153472</title>\n<polygon fill=\"#fefecd\" stroke=\"#444443\" stroke-width=\".5\" points=\"209,-66 155,-66 155,0 209,0 209,-66\"/>\n<polygon fill=\"#fefecd\" stroke=\"transparent\" points=\"157,-50 157,-64 207,-64 207,-50 157,-50\"/>\n<polyline fill=\"none\" stroke=\"#444443\" points=\"157,-50 207,-50 \"/>\n<text text-anchor=\"start\" x=\"163.5\" y=\"-54.2\" font-family=\"Times,serif\" font-style=\"italic\" font-size=\"11.00\" fill=\"#444443\">ListItem</text>\n<polygon fill=\"#fefecd\" stroke=\"transparent\" points=\"157,-48 157,-50 207,-50 207,-48 157,-48\"/>\n<polygon fill=\"#fefecd\" stroke=\"transparent\" points=\"157,-34 157,-48 189,-48 189,-34 157,-34\"/>\n<polyline fill=\"none\" stroke=\"#444443\" points=\"189,-34 189,-48 \"/>\n<text text-anchor=\"start\" x=\"158\" y=\"-38.2\" font-family=\"Helvetica,sans-Serif\" font-size=\"11.00\" fill=\"#444443\">item </text>\n<polygon fill=\"#fefecd\" stroke=\"transparent\" points=\"189,-34 189,-48 207,-48 207,-34 189,-34\"/>\n<text text-anchor=\"start\" x=\"190\" y=\"-38.2\" font-family=\"Helvetica,sans-Serif\" font-size=\"11.00\" fill=\"#444443\"> 1</text>\n<polygon fill=\"#fefecd\" stroke=\"transparent\" points=\"157,-32 157,-34 207,-34 207,-32 157,-32\"/>\n<polygon fill=\"#fefecd\" stroke=\"transparent\" points=\"157,-18 157,-32 189,-32 189,-18 157,-18\"/>\n<polyline fill=\"none\" stroke=\"#444443\" points=\"189,-18 189,-32 \"/>\n<text text-anchor=\"start\" x=\"158\" y=\"-22.2\" font-family=\"Helvetica,sans-Serif\" font-size=\"11.00\" fill=\"#444443\">next </text>\n<polygon fill=\"#fefecd\" stroke=\"transparent\" points=\"189,-18 189,-32 207,-32 207,-18 189,-18\"/>\n<text text-anchor=\"start\" x=\"190\" y=\"-22.2\" font-family=\"Helvetica,sans-Serif\" font-size=\"11.00\" fill=\"#444443\"> &#160;&#160;&#160;</text>\n<polygon fill=\"#fefecd\" stroke=\"transparent\" points=\"157,-16 157,-18 207,-18 207,-16 157,-16\"/>\n<polygon fill=\"#fefecd\" stroke=\"transparent\" points=\"157,-2 157,-16 189,-16 189,-2 157,-2\"/>\n<polyline fill=\"none\" stroke=\"#444443\" points=\"189,-2 189,-16 \"/>\n<text text-anchor=\"start\" x=\"158\" y=\"-6.2\" font-family=\"Helvetica,sans-Serif\" font-size=\"11.00\" fill=\"#444443\">prev </text>\n<polygon fill=\"#fefecd\" stroke=\"transparent\" points=\"189,-2 189,-16 207,-16 207,-2 189,-2\"/>\n<text text-anchor=\"start\" x=\"190\" y=\"-6.2\" font-family=\"Helvetica,sans-Serif\" font-size=\"11.00\" fill=\"#444443\"> &#160;&#160;&#160;</text>\n</g>\n<!-- node22634129292736&#45;&gt;node22634127153472 -->\n<g id=\"edge6\" class=\"edge\">\n<title>node22634129292736:c&#45;&gt;node22634127153472</title>\n<path fill=\"none\" stroke=\"#444443\" stroke-width=\".5\" d=\"M125.2471,-10.2989C130.3007,-12.3203 140.5537,-16.4215 150.9723,-20.5889\"/>\n<ellipse fill=\"#444443\" stroke=\"#444443\" stroke-width=\".5\" cx=\"123.4856\" cy=\"-9.5943\" rx=\"1.6\" ry=\"1.6\"/>\n<polygon fill=\"#444443\" stroke=\"#444443\" stroke-width=\".5\" points=\"150.575,-21.9378 154.8088,-22.1235 151.6149,-19.338 150.575,-21.9378\"/>\n</g>\n<!-- node22634127153472&#45;&gt;node22634129292736 -->\n<g id=\"edge4\" class=\"edge\">\n<title>node22634127153472:c&#45;&gt;node22634129292736</title>\n<path fill=\"none\" stroke=\"#444443\" stroke-width=\".5\" d=\"M194.6847,-25.2883C185.5012,-26.0868 158.9808,-28.393 137.3155,-30.2769\"/>\n<ellipse fill=\"#444443\" stroke=\"#444443\" stroke-width=\".5\" cx=\"196.406\" cy=\"-25.1387\" rx=\"1.6\" ry=\"1.6\"/>\n<polygon fill=\"#444443\" stroke=\"#444443\" stroke-width=\".5\" points=\"136.9691,-28.9017 133.1054,-30.643 137.2117,-31.6911 136.9691,-28.9017\"/>\n</g>\n<!-- node22634139730656 -->\n<g id=\"node3\" class=\"node\">\n<title>node22634139730656</title>\n<polygon fill=\"#fefecd\" stroke=\"#444443\" stroke-width=\".5\" points=\"285,-74 231,-74 231,-8 285,-8 285,-74\"/>\n<polygon fill=\"#fefecd\" stroke=\"transparent\" points=\"233,-58 233,-72 283,-72 283,-58 233,-58\"/>\n<polyline fill=\"none\" stroke=\"#444443\" points=\"233,-58 283,-58 \"/>\n<text text-anchor=\"start\" x=\"239.5\" y=\"-62.2\" font-family=\"Times,serif\" font-style=\"italic\" font-size=\"11.00\" fill=\"#444443\">ListItem</text>\n<polygon fill=\"#fefecd\" stroke=\"transparent\" points=\"233,-56 233,-58 283,-58 283,-56 233,-56\"/>\n<polygon fill=\"#fefecd\" stroke=\"transparent\" points=\"233,-42 233,-56 265,-56 265,-42 233,-42\"/>\n<polyline fill=\"none\" stroke=\"#444443\" points=\"265,-42 265,-56 \"/>\n<text text-anchor=\"start\" x=\"234\" y=\"-46.2\" font-family=\"Helvetica,sans-Serif\" font-size=\"11.00\" fill=\"#444443\">item </text>\n<polygon fill=\"#fefecd\" stroke=\"transparent\" points=\"265,-42 265,-56 283,-56 283,-42 265,-42\"/>\n<text text-anchor=\"start\" x=\"266\" y=\"-46.2\" font-family=\"Helvetica,sans-Serif\" font-size=\"11.00\" fill=\"#444443\"> 0</text>\n<polygon fill=\"#fefecd\" stroke=\"transparent\" points=\"233,-40 233,-42 283,-42 283,-40 233,-40\"/>\n<polygon fill=\"#fefecd\" stroke=\"transparent\" points=\"233,-26 233,-40 265,-40 265,-26 233,-26\"/>\n<polyline fill=\"none\" stroke=\"#444443\" points=\"265,-26 265,-40 \"/>\n<text text-anchor=\"start\" x=\"234\" y=\"-30.2\" font-family=\"Helvetica,sans-Serif\" font-size=\"11.00\" fill=\"#444443\">next </text>\n<polygon fill=\"#fefecd\" stroke=\"transparent\" points=\"265,-26 265,-40 283,-40 283,-26 265,-26\"/>\n<text text-anchor=\"start\" x=\"266\" y=\"-30.2\" font-family=\"Helvetica,sans-Serif\" font-size=\"11.00\" fill=\"#444443\"> &#160;&#160;&#160;</text>\n<polygon fill=\"#fefecd\" stroke=\"transparent\" points=\"233,-24 233,-26 283,-26 283,-24 233,-24\"/>\n<polygon fill=\"#fefecd\" stroke=\"transparent\" points=\"233,-10 233,-24 265,-24 265,-10 233,-10\"/>\n<polyline fill=\"none\" stroke=\"#444443\" points=\"265,-10 265,-24 \"/>\n<text text-anchor=\"start\" x=\"234\" y=\"-14.2\" font-family=\"Helvetica,sans-Serif\" font-size=\"11.00\" fill=\"#444443\">prev </text>\n<polygon fill=\"#fefecd\" stroke=\"transparent\" points=\"265,-10 265,-24 283,-24 283,-10 265,-10\"/>\n<text text-anchor=\"start\" x=\"266\" y=\"-14.2\" font-family=\"Helvetica,sans-Serif\" font-size=\"11.00\" fill=\"#444443\"> &#160;&#160;&#160;</text>\n</g>\n<!-- node22634127153472&#45;&gt;node22634139730656 -->\n<g id=\"edge5\" class=\"edge\">\n<title>node22634127153472:c&#45;&gt;node22634139730656</title>\n<path fill=\"none\" stroke=\"#444443\" stroke-width=\".5\" d=\"M200.8939,-10.5434C205.8414,-13.1821 216.4351,-18.8321 227.1706,-24.5577\"/>\n<ellipse fill=\"#444443\" stroke=\"#444443\" stroke-width=\".5\" cx=\"199.4118\" cy=\"-9.753\" rx=\"1.6\" ry=\"1.6\"/>\n<polygon fill=\"#444443\" stroke=\"#444443\" stroke-width=\".5\" points=\"226.6206,-25.8509 230.8088,-26.498 227.9383,-23.3803 226.6206,-25.8509\"/>\n</g>\n<!-- node22634139730656&#45;&gt;node22634127153472 -->\n<g id=\"edge3\" class=\"edge\">\n<title>node22634139730656:c&#45;&gt;node22634127153472</title>\n<path fill=\"none\" stroke=\"#444443\" stroke-width=\".5\" d=\"M270.6847,-33C261.5012,-33 234.9808,-33 213.3155,-33\"/>\n<ellipse fill=\"#444443\" stroke=\"#444443\" stroke-width=\".5\" cx=\"272.4\" cy=\"-33\" rx=\"1.6\" ry=\"1.6\"/>\n<polygon fill=\"#444443\" stroke=\"#444443\" stroke-width=\".5\" points=\"213.1055,-31.6001 209.1054,-33 213.1054,-34.4001 213.1055,-31.6001\"/>\n</g>\n<!-- node22634140168592 -->\n<g id=\"node4\" class=\"node\">\n<title>node22634140168592</title>\n<polygon fill=\"#fefecd\" stroke=\"#444443\" stroke-width=\".5\" points=\"57,-88 0,-88 0,-38 57,-38 57,-88\"/>\n<polygon fill=\"#fefecd\" stroke=\"transparent\" points=\"2.5,-72 2.5,-86 55.5,-86 55.5,-72 2.5,-72\"/>\n<polyline fill=\"none\" stroke=\"#444443\" points=\"2.5,-72 55.5,-72 \"/>\n<text text-anchor=\"start\" x=\"7\" y=\"-76.2\" font-family=\"Times,serif\" font-style=\"italic\" font-size=\"11.00\" fill=\"#444443\">MyDeque</text>\n<polygon fill=\"#fefecd\" stroke=\"transparent\" points=\"2.5,-70 2.5,-72 55.5,-72 55.5,-70 2.5,-70\"/>\n<polygon fill=\"#fefecd\" stroke=\"transparent\" points=\"2.5,-56 2.5,-70 37.5,-70 37.5,-56 2.5,-56\"/>\n<polyline fill=\"none\" stroke=\"#444443\" points=\"37.5,-56 37.5,-70 \"/>\n<text text-anchor=\"start\" x=\"3.5\" y=\"-60.2\" font-family=\"Helvetica,sans-Serif\" font-size=\"11.00\" fill=\"#444443\">head </text>\n<polygon fill=\"#fefecd\" stroke=\"transparent\" points=\"37.5,-56 37.5,-70 55.5,-70 55.5,-56 37.5,-56\"/>\n<text text-anchor=\"start\" x=\"38.5\" y=\"-60.2\" font-family=\"Helvetica,sans-Serif\" font-size=\"11.00\" fill=\"#444443\"> &#160;&#160;&#160;</text>\n<polygon fill=\"#fefecd\" stroke=\"transparent\" points=\"2.5,-54 2.5,-56 55.5,-56 55.5,-54 2.5,-54\"/>\n<polygon fill=\"#fefecd\" stroke=\"transparent\" points=\"2.5,-40 2.5,-54 37.5,-54 37.5,-40 2.5,-40\"/>\n<polyline fill=\"none\" stroke=\"#444443\" points=\"37.5,-40 37.5,-54 \"/>\n<text text-anchor=\"start\" x=\"14.5\" y=\"-44.2\" font-family=\"Helvetica,sans-Serif\" font-size=\"11.00\" fill=\"#444443\">tail </text>\n<polygon fill=\"#fefecd\" stroke=\"transparent\" points=\"37.5,-40 37.5,-54 55.5,-54 55.5,-40 37.5,-40\"/>\n<text text-anchor=\"start\" x=\"38.5\" y=\"-44.2\" font-family=\"Helvetica,sans-Serif\" font-size=\"11.00\" fill=\"#444443\"> &#160;&#160;&#160;</text>\n</g>\n<!-- node22634140168592&#45;&gt;node22634129292736 -->\n<g id=\"edge2\" class=\"edge\">\n<title>node22634140168592:c&#45;&gt;node22634129292736</title>\n<path fill=\"none\" stroke=\"#444443\" stroke-width=\".5\" d=\"M49.6753,-46.2529C54.5759,-45.0998 64.4829,-42.7687 74.6407,-40.3787\"/>\n<ellipse fill=\"#444443\" stroke=\"#444443\" stroke-width=\".5\" cx=\"48.0575\" cy=\"-46.6335\" rx=\"1.6\" ry=\"1.6\"/>\n<polygon fill=\"#444443\" stroke=\"#444443\" stroke-width=\".5\" points=\"75.115,-41.7054 78.688,-39.4264 74.4736,-38.9798 75.115,-41.7054\"/>\n</g>\n<!-- node22634140168592&#45;&gt;node22634139730656 -->\n<g id=\"edge1\" class=\"edge\">\n<title>node22634140168592:c&#45;&gt;node22634139730656</title>\n<path fill=\"none\" stroke=\"#444443\" stroke-width=\".5\" d=\"M49.674,-63.7925C66.4944,-67.8547 146.7896,-85.5209 209,-69 215.1952,-67.3548 221.4241,-64.7218 227.2648,-61.7134\"/>\n<ellipse fill=\"#444443\" stroke=\"#444443\" stroke-width=\".5\" cx=\"48.0523\" cy=\"-63.3877\" rx=\"1.6\" ry=\"1.6\"/>\n<polygon fill=\"#444443\" stroke=\"#444443\" stroke-width=\".5\" points=\"227.9807,-62.9183 230.8476,-59.7972 226.6601,-60.4492 227.9807,-62.9183\"/>\n</g>\n</g>\n</svg>\n",
      "text/plain": [
       "<graphviz.sources.Source at 0x1495ebdbc970>"
      ]
     },
     "execution_count": 33,
     "metadata": {},
     "output_type": "execute_result"
    }
   ],
   "source": [
    "import lolviz\n",
    "Q = MyDeque()\n",
    "Q.push_right(1)\n",
    "Q.push_right(2)\n",
    "Q.push_left(0)\n",
    "lolviz.objviz(Q)"
   ]
  },
  {
   "cell_type": "code",
   "execution_count": 27,
   "metadata": {},
   "outputs": [
    {
     "name": "stdout",
     "output_type": "stream",
     "text": [
      "[[ 0 1 2 3 4 ]]\n",
      "[[ 4 3 2 1 0 ]]\n",
      "[[ 0 1 2 3 4 ]]\n",
      "[[ 4 3 2 1 0 ]]\n",
      "ok\n"
     ]
    }
   ],
   "source": [
    "# some more tests:\n",
    "\n",
    "Q = MyDeque()\n",
    "Q.push_left(1)\n",
    "Q.push_right(2)\n",
    "assert(Q.head.item == 1)\n",
    "assert(Q.tail.item == 2)\n",
    "assert(Q.head.next == Q.tail)\n",
    "assert(Q.head.prev == None)\n",
    "assert(Q.tail.prev == Q.head)\n",
    "assert(Q.pop_right()==2)\n",
    "assert(Q.head.item == 1)\n",
    "assert(Q.head == Q.tail)\n",
    "assert(Q.head.prev == None)\n",
    "assert(Q.head.next == None)\n",
    "assert(Q.pop_right()==1)\n",
    "assert(Q.head == None)\n",
    "assert(Q.tail == None)\n",
    "\n",
    "for n in range(5):\n",
    "    Q.push_right(n)\n",
    "Q.print_it()    \n",
    "for n in range(5):\n",
    "    assert(Q.pop_left()==n)\n",
    "assert(Q.pop_left()==None) \n",
    "\n",
    "for n in range(5):\n",
    "    Q.push_left(n)\n",
    "Q.print_it()\n",
    "for n in range(5):\n",
    "    assert(Q.pop_right()==n)\n",
    "assert(Q.pop_right()==None)\n",
    "\n",
    "for n in range(5):\n",
    "    Q.push_right(n)\n",
    "Q.print_it()\n",
    "for n in range(5):\n",
    "    assert(Q.pop_right()==4-n)\n",
    "    \n",
    "for n in range(5):\n",
    "    Q.push_left(n)\n",
    "Q.print_it()\n",
    "for n in range(5):\n",
    "    assert(Q.pop_left()==4-n)\n",
    "\n",
    "print (\"ok\")"
   ]
  },
  {
   "cell_type": "code",
   "execution_count": 34,
   "metadata": {},
   "outputs": [
    {
     "name": "stdout",
     "output_type": "stream",
     "text": [
      "16.7 ms ± 29 µs per loop (mean ± std. dev. of 7 runs, 100 loops each)\n",
      "34.6 ms ± 182 µs per loop (mean ± std. dev. of 7 runs, 10 loops each)\n",
      "71 ms ± 573 µs per loop (mean ± std. dev. of 7 runs, 10 loops each)\n",
      "143 ms ± 1.09 ms per loop (mean ± std. dev. of 7 runs, 10 loops each)\n",
      "288 ms ± 1.62 ms per loop (mean ± std. dev. of 7 runs, 1 loop each)\n"
     ]
    }
   ],
   "source": [
    "def test_our_deque(n):\n",
    "    Q = MyDeque()\n",
    "    for idx in range(n):\n",
    "        Q.push_right(n)\n",
    "        Q.push_left(n)\n",
    "        \n",
    "    for idx in range(n):\n",
    "        Q.pop_left()\n",
    "        Q.pop_right()\n",
    "\n",
    "sizes = [10000, 20000, 40000, 80000, 160000]\n",
    "for n in sizes:\n",
    "    %timeit test_our_deque(n)"
   ]
  },
  {
   "cell_type": "markdown",
   "metadata": {},
   "source": [
    "test_our_deque() takes: O(n). Therefore, all operations take O(1) as expected!"
   ]
  },
  {
   "cell_type": "code",
   "execution_count": null,
   "metadata": {},
   "outputs": [],
   "source": []
  }
 ],
 "metadata": {
  "kernelspec": {
   "display_name": "venv",
   "language": "python",
   "name": "venv"
  },
  "language_info": {
   "codemirror_mode": {
    "name": "ipython",
    "version": 3
   },
   "file_extension": ".py",
   "mimetype": "text/x-python",
   "name": "python",
   "nbconvert_exporter": "python",
   "pygments_lexer": "ipython3",
   "version": "3.9.12"
  },
  "name": "HW04.ipynb"
 },
 "nbformat": 4,
 "nbformat_minor": 4
}
