{
 "cells": [
  {
   "cell_type": "markdown",
   "metadata": {},
   "source": [
    "# Homework 03\n",
    "\n",
    "Please fill in: Sanskruti Jadhav"
   ]
  },
  {
   "cell_type": "markdown",
   "metadata": {},
   "source": [
    "## Question 1\n",
    "Implement selection sort:"
   ]
  },
  {
   "cell_type": "code",
   "execution_count": 1,
   "metadata": {},
   "outputs": [],
   "source": [
    "def selection_sort(arr):\n",
    "    \"\"\" sort the given array in-place (by swapping elements) using selection sort and return it\"\"\"\n",
    "    n = len(arr)\n",
    "    minimum_val=0\n",
    "\n",
    "    if n==1:\n",
    "        return arr\n",
    "    for i in range(len(arr)-1):\n",
    "        minimum_val=i\n",
    "\n",
    "        for j in range(i+1,n):\n",
    "            if arr[minimum_val] > arr[j]:\n",
    "                minimum_val = j\n",
    "        \n",
    "        arr[i],arr[minimum_val] = arr[minimum_val],arr[i]\n",
    "    return arr       "
   ]
  },
  {
   "cell_type": "code",
   "execution_count": 3,
   "metadata": {},
   "outputs": [
    {
     "name": "stdout",
     "output_type": "stream",
     "text": [
      "[5] -> [5]\n",
      "[1, 7, 2, 8, 7] -> [1, 2, 7, 7, 8]\n",
      "[4, 3, 2, 1] -> [1, 2, 3, 4]\n",
      "[1, 2, 3, 4] -> [1, 2, 3, 4]\n",
      "[] -> []\n"
     ]
    }
   ],
   "source": [
    "# check your implementation:\n",
    "a=[5]\n",
    "print (a, end=\" -> \")\n",
    "print (selection_sort(a))\n",
    "\n",
    "a=[1,7,2,8,7]\n",
    "print (a, end=\" -> \")\n",
    "print (selection_sort(a))\n",
    "\n",
    "a=[4,3,2,1]\n",
    "print (a, end=\" -> \")\n",
    "print (selection_sort(a))\n",
    "\n",
    "a=[1,2,3,4]\n",
    "print (a, end=\" -> \")\n",
    "print (selection_sort(a))\n",
    "\n",
    "a=[]\n",
    "print (a, end=\" -> \")\n",
    "print (selection_sort(a))"
   ]
  },
  {
   "cell_type": "markdown",
   "metadata": {},
   "source": [
    "## Question 2\n",
    "finish the implementation of merge sort."
   ]
  },
  {
   "cell_type": "code",
   "execution_count": 39,
   "metadata": {},
   "outputs": [],
   "source": [
    "def merge(left, right):\n",
    "    # merge the two arrays into a sorted array assuming\n",
    "    # left and right are already sorted individually\n",
    "    result = []\n",
    "  \n",
    "    while len(left) != 0 and len(right) != 0:\n",
    "        if left[0] < right[0] :\n",
    "            result.append(left.pop(0))\n",
    "        else:\n",
    "            result.append(right.pop(0))\n",
    "    if left:\n",
    "        result+=left\n",
    "    if right:\n",
    "        result+=right\n",
    "    \n",
    "    return result\n",
    "                \n",
    "def merge_sort(arr):\n",
    "    # sort recursively using merge-sort\n",
    "    if len(arr)==0 or len(arr)==1:\n",
    "\n",
    "        return arr\n",
    "    mid = len(arr)//2  \n",
    "    right=merge_sort(arr[mid:])\n",
    "    left=merge_sort(arr[:mid])  \n",
    "    result= merge(left,right)\n",
    "    return result"
   ]
  },
  {
   "cell_type": "code",
   "execution_count": 40,
   "metadata": {},
   "outputs": [
    {
     "name": "stdout",
     "output_type": "stream",
     "text": [
      "[5] -> [5]\n",
      "[1, 3, 2, 8, 7] -> [1, 2, 3, 7, 8]\n",
      "[4, 3, 2, 1] -> [1, 2, 3, 4]\n",
      "[1, 2, 3, 4] -> [1, 2, 3, 4]\n",
      "[] -> []\n"
     ]
    }
   ],
   "source": [
    "# check your implementation:\n",
    "a=[5]\n",
    "print (a, end=\" -> \")\n",
    "print (merge_sort(a))\n",
    "\n",
    "a=[1,3,2,8,7]\n",
    "print (a, end=\" -> \")\n",
    "print (merge_sort(a))\n",
    "\n",
    "a=[4,3,2,1]\n",
    "print (a, end=\" -> \")\n",
    "print (merge_sort(a))\n",
    "\n",
    "a=[1,2,3,4]\n",
    "print (a, end=\" -> \")\n",
    "print (merge_sort(a))\n",
    "\n",
    "a=[]\n",
    "print (a, end=\" -> \")\n",
    "print (merge_sort(a))"
   ]
  },
  {
   "cell_type": "code",
   "execution_count": null,
   "metadata": {},
   "outputs": [],
   "source": []
  }
 ],
 "metadata": {
  "kernelspec": {
   "display_name": "Python 3.9.12 ('base')",
   "language": "python",
   "name": "python3"
  },
  "language_info": {
   "codemirror_mode": {
    "name": "ipython",
    "version": 3
   },
   "file_extension": ".py",
   "mimetype": "text/x-python",
   "name": "python",
   "nbconvert_exporter": "python",
   "pygments_lexer": "ipython3",
   "version": "3.9.12"
  },
  "name": "HW03.ipynb",
  "vscode": {
   "interpreter": {
    "hash": "2700178ef741c15d6be515d318ae51aab30b3706011b62dccec0eeb7b11bde02"
   }
  }
 },
 "nbformat": 4,
 "nbformat_minor": 4
}
